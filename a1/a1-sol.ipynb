{
 "cells": [
  {
   "cell_type": "code",
   "execution_count": 58,
   "metadata": {
    "collapsed": true
   },
   "outputs": [],
   "source": [
    "from encdec import * "
   ]
  },
  {
   "cell_type": "markdown",
   "metadata": {},
   "source": [
    "#problem 1"
   ]
  },
  {
   "cell_type": "code",
   "execution_count": 59,
   "metadata": {
    "collapsed": false
   },
   "outputs": [],
   "source": [
    "fstr = file2str('cfile1.base64')\n",
    "data = base64.decodestring(fstr)"
   ]
  },
  {
   "cell_type": "code",
   "execution_count": 60,
   "metadata": {
    "collapsed": false,
    "scrolled": true
   },
   "outputs": [
    {
     "name": "stdout",
     "output_type": "stream",
     "text": [
      "(liiddite:ott yrhhItti g1 ownreaae rc aScs rg is )Il:e,tegt  ueammnyiri)dvogtsn tSeaeu utPPrtmat3 i h orue)lprrnoitnin nel n:aaitm.vgkrpr ahele(lmMtSrsar4om peDoi VaIadltu CnnaA\n",
      "ahrieo&mgs n\n",
      "oaoaiB,D (voSet nsN .   ohoE dUt (htotct mi e .vftFs   &\n",
      "eCcD d ro,\n",
      "ldtfrcg,  ef2  wynosieihyse h t,W, .  i olUerkieh e ytteso)INt ocln nter ye,esieSntenefOnvflveeph  eCog amrrfohc io\n"
     ]
    }
   ],
   "source": [
    "print data"
   ]
  },
  {
   "cell_type": "code",
   "execution_count": 61,
   "metadata": {
    "collapsed": false
   },
   "outputs": [],
   "source": [
    "result=[]\n",
    "for i in range(5,16,1):\n",
    "    result.append(railFenceDecrypt(data,i))\n"
   ]
  },
  {
   "cell_type": "code",
   "execution_count": 62,
   "metadata": {
    "collapsed": false
   },
   "outputs": [
    {
     "name": "stdout",
     "output_type": "stream",
     "text": [
      "0\n",
      "(sein l l)eet (Iill.evm:ieMfrtt,dtSF sredgs y ati r e&4 tuo\n",
      ",emeea Cecpm:meDs Dnoyodi iitr reoVit)a,S\n",
      "Id valnddoyglttfttrsurec nh Cgn,nthSn e aeIaAeff\n",
      "etua2O h tur nwitiPeyvnoP r&ofsmtgmgilesa1t ivhn3  \n",
      "yesoio aee ohw ahp ionrBth,,ureDW , )el(  .vparo e SraneiC toei oolnt nsUgeNirn r k. cn iae e l hm o anher o:SaEyrt acidtfeUtsmtsoo . v()hIhgrktNctorgpt  ocr  tcil aihmno \n",
      "\n",
      "1\n",
      "(ai ricntSlcn\n",
      "ge,oisi na S o rignaenfie dilB2t , sd nD ew :)iIa(ynnvalt:iooesStee,meifet.t:ev iOhnggotksynsNr t p ev .rute  hf  aa mh tl,oemynlhWv,oeyri(E e. lrhimd e UM)hdttip  SvIor(ohlhsgttatU eorstn4tr kco itmtiee  S epmhC ieageD eo eou1 i ygt. u tVvt efaPoPItsaoFarwtds)mI lmnat Nrt utr3 & ro\n",
      "C einecflCn ahacno DA ao\n",
      " nhtdareuh ecrrre )io  y,elrpo\n",
      "ei,l&rcrmdeostgn osf\n",
      "\n",
      "2\n",
      "(atp inhde3el  DUyestoiric i ef ( h ia VhhO taoSdcrIotn,tausd edcWv,tl)riglt  f.mup tir i l  Crse nneiv  no):Iia.oelvAtlo:n\n",
      "fUeetaiet,nhFrpksr tteni ihe eeg tlo h  &&  y nm\n",
      "e  eg:ureasCyetc aahminDtCe \n",
      "tmhnmodsoo a.yIivor)gIoagrtiki,N t\n",
      "Br)tdp,l aodDrvio  tcmlf(ag thvrnr coesgnlSgnrt,ee 1t(t efr  lS emne oyfsMaoetN2eh,  Suw r. ecsw sunta yi en rPrP4ooSinshoretmoitoeeE maa\n",
      "\n",
      "3\n",
      "(wtkgf n.tsrSnlrep F v snraeiae \n",
      " if  oauaie ha oll&oeu drtla\n",
      "UveeiePcd P(BCrekc,lraiStmDDiee  Mmctsat(dhp  vSt er3roreh oSs g: iae,y t\n",
      "tr iosh4 lt edno  t)omstseofN rItlup r)CIc.ee: e)D gNot, ol,ytpi   go o rergrVhec lfoanth oIE2na   ai hutdd nmtwUlneIaittyerrn unmtm  (o ryshCnntyentief,eonliir atieoshcAni ):\n",
      "tyihes aadgvahmeScn irio1gti ht e eemt s.o tnie,.&vno gmvWfoO,\n",
      "\n",
      "4\n",
      "(1) I lived and loved the following three countries: Egypt, Canada and the United States of America.\n",
      "(2) I have taught Network Security Concepts: Protocols & Programming eight times in the last ten years.\n",
      "(3) I love my family: Mother, Father, Sisters, Brothers, Wife, Daughter & Son.\n",
      "(4) I love the Computer Scince Depratmnet of Old Dominion University in Norfolk, Virgina.\n",
      "\n",
      "\n",
      "5\n",
      "(ierlmoeyetftgmua lgmeMsc2tpe t t)m1i nlSn  showm\n",
      "rpyoiwirsoiy) In aarrndrinroeoN ts a4o)edadioi.i eoevBmtvaieon ,ficClhtDpig trtne Fyno ss(D sce nnov engt  oie a:Stl S he r &eV Scosenat\n",
      "t ay,e I:a treaanCWem,,csdaugt  ilND ers.  ttui stmu.d ire    .P y)PvC riSfn o ngrIrltkno,otoel\n",
      "harm:heapAolUnheedE\n",
      "rt,ht3 a trfcOkfdha eIgihrUrin vectie tt hle ghfil ,(oe  tuo(&h evoe  t\n",
      "\n",
      "6\n",
      "(tem.deFi)hIestlvagtlittgt  iN th nuk3  ig  r s y  os&NCpiu1i e rn \n",
      "ecel e.n haodwm aa ChnC  c Ahomndrnre\n",
      " Dtnot, oaluyeiaieehhdWegr, or()rateilliEr   y.o emp) erdrMod, ea, \n",
      "U&trvc: onSmtliems d grogaoStiss(toirelfh atsctsnnrntrUSrneco\n",
      "4i  trtnootgrtfek,cam Sg  en ot inoee  apeaiyseleimehfhO fiBD u r) no, 2encv  eDi:uIhlta    yf ltw.(VaP:hePiavvytvieenfoItr,IttmaStoseopos\n",
      "\n",
      "7\n",
      "(hlun4sUrtc l,ot oe :Ilteulmn ,Wne ,\n",
      "(\n",
      "  t,tiitPnpohl nCt.dtae:Pe iggraDoot eor ftaoatt1d  miiicri gy ctB ta odwutmV, goe ,l,mDa.3enira vI i Uease  (agimetam kdveerimekf olrhnaeey ptS.2iSrne veuroi :rrr  tf htre wt Cauico )ehnnFyenfe nssne)datSvllaN oyfoOts  Aepoctsgr(\n",
      ". itnhvee& alrt  rsnmh \n",
      "isfclohe rMongy  itioCy)v eIscheSttirsSnrooDeNeipt  E&sie h)anam dh ho o  dgr eI\n",
      "\n",
      "8\n",
      "(hsnre oic  en g SClr  hlI)tnenee,itCe   tn(oSItitleila . oro levnAmta:ii eenM\n",
      "sffUygee2tNatiu,gd1t nSh F r, ek s.rr ue dogtnsi  wisaiey  eaePtwin Plro  nhemS o&o&4 r rteutnomh\n",
      "senrt ieogm:meaeaaaa sECeyerntic  patme: m3iendDhteffey U\n",
      "Dt nrocyimootdssOonoe  ai. i tarhv o(r )vhfIhohaVg iStc)okait, Nlcvtt\n",
      "oBIrrds  vupa,tl, e eoWdcDdreorygg) l tt,cpihl f (talt risphuvmr.n o \n",
      "\n",
      "9\n",
      "(rgvovonE\n",
      "nkyoeioe \n",
      "igro hlhiguk odCse,gehicUaVretsIit s)paotDe s iei  aIrln)tiiI p ai(dh eaSyy hBdartl dg:Srhl,trstnmtteooDtenee1d ,aolu t, eernsh\n",
      "c( eietoiweut(Cvtl oerf)td onln gntrtuimnSmt,IOfnNWfieaMnt eea P tAt r,tvof  ce \n",
      "SnPua:eereran g.olhvc ,.shslta ormm arNv  leceni f irnamct nt:4e.te  p hnofF ooa3yatSi am& s2lt i eU   m iirc si tpgo  ereoC rw hsemh) yrd .D o&y\n",
      "\n",
      "10\n",
      "(ysit rASt,yeegs s\n",
      " e\n",
      "sn3r rlhri :aatmleyi et di hrai)ghiI d a4rn thtSane fesioihvititso tmeN rtstmeo,c. o mog id )tr.p&.vgW)nreI,,f mevusIgd1lnegDg t  NfrOt. F sok) : ioetlri ose  nfvo f hn ppS,wtnterrV\n",
      "o 2icfoll   Eoa raereegenaIa & onvhe lw\n",
      "doahouta:a  iedaUeyUnecptenCtilltu eo utnetB coreh  rksD(,u(iPertcaPnl Dh ii  ieyeedt Cm rm tamtnMn(o iheCoo, hrtvntemnS cyalSaoco\n",
      "\n"
     ]
    }
   ],
   "source": [
    "for i in range(0,11):\n",
    "    print  i\n",
    "    print  result[i]+'\\n'\n",
    "    "
   ]
  },
  {
   "cell_type": "markdown",
   "metadata": {},
   "source": [
    "# <font color='green'>So the key is 9</font>"
   ]
  },
  {
   "cell_type": "markdown",
   "metadata": {},
   "source": [
    "#problem 2"
   ]
  },
  {
   "cell_type": "code",
   "execution_count": 63,
   "metadata": {
    "collapsed": false
   },
   "outputs": [],
   "source": [
    "# to get the key from wahab.jpg, run $./decode wahab.jpg sec.txt\n",
    "# then we can have the key\n",
    "k='uzfijeagywnslkhxqmtodpbc vr'"
   ]
  },
  {
   "cell_type": "code",
   "execution_count": 64,
   "metadata": {
    "collapsed": true
   },
   "outputs": [],
   "source": [
    "fstr = file2str('cfile2.base64')\n",
    "data = base64.decodestring(fstr)"
   ]
  },
  {
   "cell_type": "code",
   "execution_count": 65,
   "metadata": {
    "collapsed": false
   },
   "outputs": [
    {
     "data": {
      "text/plain": [
       "'(2) I have taught Network Security Concepts: Protocols & Programming eight times in the last ten years.\\n(3) I love my family: Mother, Father, Sisters, Brothers, Wife, Daughter & Son.\\n(4) I love the Computer Scince Depratmnet of Old Dominion University in Norfolk, Virgina.\\n(1) I lived and loved the following three countries: Egypt, Canada and the United States of America.\\n'"
      ]
     },
     "execution_count": 65,
     "metadata": {},
     "output_type": "execute_result"
    }
   ],
   "source": [
    "subDecrypt(data,k)"
   ]
  },
  {
   "cell_type": "markdown",
   "metadata": {
    "collapsed": true
   },
   "source": [
    "#problem 3"
   ]
  },
  {
   "cell_type": "code",
   "execution_count": 66,
   "metadata": {
    "collapsed": false
   },
   "outputs": [],
   "source": [
    "fstr = file2str('cfile3.base64')\n",
    "data = base64.decodestring(fstr)\n",
    "result=[]\n",
    "for i in range(24):\n",
    "    pwd=indexToLetter(i)+indexToLetter(i+1)+indexToLetter(i+2)\n",
    "    result.append(viDecrypt(pwd, data))\n"
   ]
  },
  {
   "cell_type": "code",
   "execution_count": 67,
   "metadata": {
    "collapsed": false
   },
   "outputs": [
    {
     "name": "stdout",
     "output_type": "stream",
     "text": [
      "0\n",
      "(3)wIwhkrawiuwbxiehu:wMkpdan,wFxpdan,wSeopano,wBnkpdano,wWeba,wDxqcdpanw&wSkj.\n",
      "(4)wIwhkrawpdawCkilqpanwSzejzawDalnxpijapwkbwOh wDkiejekjwUjeranoepuwejwNknbkhg,wVencejx.\n",
      "(1)wIwhera wxj whkra wpdawbkhhksejcwpdnaawzkqjpneao:wEculp,wCxjx xwxj wpdawUjepa wSpxpaowkbwAianezx.\n",
      "(2)wIwdxrawpxqcdpwNapskngwSazqnepuwCkjzalpo:wPnkpkzkhow&wPnkcnxiiejcwaecdpwpeiaowejwpdawhxopwpajwuaxno.\n",
      "\n",
      "\n",
      "1\n",
      "(3)vIvgjq vhtvawhdgt:vMjoc m,vFwoc m,vSdno mn,vBmjoc mn,vWda ,vDwpbco mv&vSji.\n",
      "(4)vIvgjq voc vCjhkpo mvSydiy vD kmwohi ovjavOgzvDjhdidjivUidq mndotvdivNjmajgf,vVdmbdiw.\n",
      "(1)vIvgdq zvwizvgjq zvoc vajggjrdibvocm  vyjpiomd n:vEbtko,vCwiwzwvwizvoc vUido zvSowo nvjavAh mdyw.\n",
      "(2)vIvcwq vowpbcovN orjmfvS ypmdotvCjiy kon:vPmjojyjgnv&vPmjbmwhhdibv dbcovodh nvdivoc vgwnovo ivt wmn.\n",
      "\n",
      "\n",
      "2\n",
      "(3)uIufipzugsu vgcfs:uMinbzl,uFvnbzl,uScmnzlm,uBlinbzlm,uWc z,uDvoabnzlu&uSih.\n",
      "(4)uIufipzunbzuCigjonzluSxchxzuDzjlvnghznui uOfyuDigchcihuUhcpzlmcnsuchuNil ife,uVclachv.\n",
      "(1)uIufcpzyuvhyufipzyunbzu iffiqchaunblzzuxiohnlczm:uEasjn,uCvhvyvuvhyunbzuUhcnzyuSnvnzmui uAgzlcxv.\n",
      "(2)uIubvpzunvoabnuNznqileuSzxolcnsuCihxzjnm:uPlinixifmu&uPlialvggchauzcabnuncgzmuchunbzufvmnunzhuszvlm.\n",
      "\n",
      "\n",
      "3\n",
      "(3)tItehoytfrtzufber:tMhmayk,tFumayk,tSblmykl,tBkhmaykl,tWbzy,tDun amykt&tShg.\n",
      "(4)tItehoytmaytChfinmyktSwbgwytDyikumfgymthztOextDhfbgbhgtUgboyklbmrtbgtNhkzhed,tVbk bgu.\n",
      "(1)tIteboyxtugxtehoyxtmaytzheehpbg tmakyytwhngmkbyl:tE rim,tCuguxutugxtmaytUgbmyxtSmumylthztAfykbwu.\n",
      "(2)tItauoytmun amtNymphkdtSywnkbmrtChgwyiml:tPkhmhwhelt&tPkh kuffbg tyb amtmbfyltbgtmayteulmtmygtryukl.\n",
      "\n",
      "\n",
      "4\n",
      "(3)sIsdgnxseqsyteadq:sMgl xj,sFtl xj,sSaklxjk,sBjgl xjk,sWayx,sDtmz lxjs&sSgf.\n",
      "(4)sIsdgnxsl xsCgehmlxjsSvafvxsDxhjtlefxlsgysOdwsDgeafagfsUfanxjkalqsafsNgjygdc,sVajzaft.\n",
      "(1)sIsdanxwstfwsdgnxwsl xsygddgoafzsl jxxsvgmfljaxk:sEzqhl,sCtftwtstfwsl xsUfalxwsSltlxksgysAexjavt.\n",
      "(2)sIs tnxsltmz lsNxlogjcsSxvmjalqsCgfvxhlk:sPjglgvgdks&sPjgzjteeafzsxaz lslaexksafsl xsdtklslxfsqxtjk.\n",
      "\n",
      "\n",
      "5\n",
      "(3)rIrcfmwrdprxsd cp:rMfkzwi,rFskzwi,rS jkwij,rBifkzwij,rW xw,rDslyzkwir&rSfe.\n",
      "(4)rIrcfmwrkzwrCfdglkwirSu euwrDwgiskdewkrfxrOcvrDfd e ferUe mwij kpr erNfixfcb,rV iy es.\n",
      "(1)rIrc mwvrsevrcfmwvrkzwrxfccfn eyrkziwwrufleki wj:rEypgk,rCsesvsrsevrkzwrUe kwvrSkskwjrfxrAdwi us.\n",
      "(2)rIrzsmwrkslyzkrNwknfibrSwuli kprCfeuwgkj:rPifkfufcjr&rPifyisdd eyrw yzkrk dwjr erkzwrcsjkrkwerpwsij.\n",
      "\n",
      "\n",
      "6\n",
      "(3)qIqbelvqcoqwrczbo:qMejyvh,qFrjyvh,qSzijvhi,qBhejyvhi,qWzwv,qDrkxyjvhq&qSed.\n",
      "(4)qIqbelvqjyvqCecfkjvhqStzdtvqDvfhrjcdvjqewqObuqDeczdzedqUdzlvhizjoqzdqNehweba,qVzhxzdr.\n",
      "(1)qIqbzlvuqrduqbelvuqjyvqwebbemzdxqjyhvvqtekdjhzvi:qExofj,qCrdrurqrduqjyvqUdzjvuqSjrjviqewqAcvhztr.\n",
      "(2)qIqyrlvqjrkxyjqNvjmehaqSvtkhzjoqCedtvfji:qPhejetebiq&qPhexhrcczdxqvzxyjqjzcviqzdqjyvqbrijqjvdqovrhi.\n",
      "\n",
      "\n",
      "7\n",
      "(3)pIpadkupbnpvqbyan:pMdixug,pFqixug,pSyhiugh,pBgdixugh,pWyvu,pDqjwxiugp&pSdc.\n",
      "(4)pIpadkupixupCdbejiugpSsycsupDuegqibcuipdvpOatpDdbycydcpUcykughyinpycpNdgvda ,pVygwycq.\n",
      "(1)pIpaykutpqctpadkutpixupvdaadlycwpixguupsdjcigyuh:pEwnei,pCqcqtqpqctpixupUcyiutpSiqiuhpdvpAbugysq.\n",
      "(2)pIpxqkupiqjwxipNuildg pSusjgyinpCdcsueih:pPgdidsdahp&pPgdwgqbbycwpuywxipiybuhpycpixupaqhipiucpnuqgh.\n",
      "\n",
      "\n",
      "8\n",
      "(3)oIo cjtoamoupax m:oMchwtf,oFphwtf,oSxghtfg,oBfchwtfg,oWxut,oDpivwhtfo&oScb.\n",
      "(4)oIo cjtohwtoCcadihtfoSrxbrtoDtdfphabthocuoO soDcaxbxcboUbxjtfgxhmoxboNcfuc z,oVxfvxbp.\n",
      "(1)oIo xjtsopbso cjtsohwtouc  ckxbvohwfttorcibhfxtg:oEvmdh,oCpbpspopbsohwtoUbxhtsoShphtgocuoAatfxrp.\n",
      "(2)oIowpjtohpivwhoNthkcfzoStrifxhmoCcbrtdhg:oPfchcrc go&oPfcvfpaaxbvotxvwhohxatgoxbohwto pghohtbomtpfg.\n",
      "\n",
      "\n",
      "9\n",
      "(3)nInzbisn lnto wzl:nMbgvse,nFogvse,nSwfgsef,nBebgvsef,nWwts,nDohuvgsen&nSba.\n",
      "(4)nInzbisngvsnCb chgsenSqwaqsnDsceog asgnbtnOzrnDb wawbanUawisefwglnwanNbetbzy,nVweuwao.\n",
      "(1)nInzwisrnoarnzbisrngvsntbzzbjwaungvessnqbhagewsf:nEulcg,nCoaoronoarngvsnUawgsrnSgogsfnbtnA sewqo.\n",
      "(2)nInvoisngohuvgnNsgjbeynSsqhewglnCbaqscgf:nPebgbqbzfn&nPebueo  waunswuvgngw sfnwangvsnzofgngsanlsoef.\n",
      "\n",
      "\n",
      "10\n",
      "(3)mImyahrmzkmsnzvyk:mMafurd,mFnfurd,mSvefrde,mBdafurde,mWvsr,mDngtufrdm&mSa .\n",
      "(4)mImyahrmfurmCazbgfrdmSpv prmDrbdnfz rfmasmOyqmDazv va mU vhrdevfkmv mNadsayx,mVvdtv n.\n",
      "(1)mImyvhrqmn qmyahrqmfurmsayyaiv tmfudrrmpag fdvre:mEtkbf,mCn nqnmn qmfurmU vfrqmSfnfremasmAzrdvpn.\n",
      "(2)mImunhrmfngtufmNrfiadxmSrpgdvfkmCa prbfe:mPdafapayem&mPdatdnzzv tmrvtufmfvzremv mfurmynefmfr mkrnde.\n",
      "\n",
      "\n",
      "11\n",
      "(3)lIlx gqlyjlrmyuxj:lM etqc,lFmetqc,lSudeqcd,lBc etqcd,lWurq,lDmfsteqcl&lS z.\n",
      "(4)lIlx gqletqlC yafeqclSouzoqlDqacmeyzqel rlOxplD yuzu zlUzugqcduejluzlN cr xw,lVucsuzm.\n",
      "(1)lIlxugqplmzplx gqpletqlr xx huzsletcqqlo fzecuqd:lEsjae,lCmzmpmlmzpletqlUzueqplSemeqdl rlAyqcuom.\n",
      "(2)lIltmgqlemfstelNqeh cwlSqofcuejlC zoqaed:lPc e o xdl&lPc scmyyuzslqusteleuyqdluzletqlxmdeleqzljqmcd.\n",
      "\n",
      "\n",
      "12\n",
      "(3)kIkwzfpkxikqlxtwi:kMzdspb,kFldspb,kStcdpbc,kBbzdspbc,kWtqp,kDlersdpbk&kSzy.\n",
      "(4)kIkwzfpkdspkCzx edpbkSntynpkDp bldxypdkzqkOwokDzxtytzykUytfpbctdiktykNzbqzwv,kVtbrtyl.\n",
      "(1)kIkwtfpoklyokwzfpokdspkqzwwzgtyrkdsbppknzeydbtpc:kEri d,kClylolklyokdspkUytdpokSdldpckzqkAxpbtnl.\n",
      "(2)kIkslfpkdlersdkNpdgzbvkSpnebtdikCzynp dc:kPbzdznzwck&kPbzrblxxtyrkptrsdkdtxpcktykdspkwlcdkdpykiplbc.\n",
      "\n",
      "\n",
      "13\n",
      "(3)jIjvyeojwhjpkwsvh:jMycroa,jFkcroa,jSsbcoab,jBaycroab,jWspo,jDkdqrcoaj&jSyx.\n",
      "(4)jIjvyeojcrojCywzdcoajSmsxmojDozakcwxocjypjOvnjDywsxsyxjUxseoabschjsxjNyapyvu,jVsaqsxk.\n",
      "(1)jIjvseonjkxnjvyeonjcrojpyvvyfsxqjcraoojmydxcasob:jEqhzc,jCkxknkjkxnjcrojUxsconjSckcobjypjAwoasmk.\n",
      "(2)jIjrkeojckdqrcjNocfyaujSomdaschjCyxmozcb:jPaycymyvbj&jPayqakwwsxqjosqrcjcswobjsxjcrojvkbcjcoxjhokab.\n",
      "\n",
      "\n",
      "14\n",
      "(3)iIiuxdnivgiojvrug:iMxbqn ,iFjbqn ,iSrabn a,iB xbqn a,iWron,iDjcpqbn i&iSxw.\n",
      "(4)iIiuxdnibqniCxvycbn iSlrwlniDny jbvwnbixoiOumiDxvrwrxwiUwrdn arbgirwiNx oxut,iVr prwj.\n",
      "(1)iIiurdnmijwmiuxdnmibqnioxuuxerwpibq nnilxcwb rna:iEpgyb,iCjwjmjijwmibqniUwrbnmiSbjbnaixoiAvn rlj.\n",
      "(2)iIiqjdnibjcpqbiNnbex tiSnlc rbgiCxwlnyba:iP xbxlxuai&iP xp jvvrwpinrpqbibrvnairwibqniujabibnwignj a.\n",
      "\n",
      "\n",
      "15\n",
      "(3)hIhtwcmhufhniuqtf:hMwapmz,hFiapmz,hSq amz ,hBzwapmz ,hWqnm,hDibopamzh&hSwv.\n",
      "(4)hIhtwcmhapmhCwuxbamzhSkqvkmhDmxziauvmahwnhOtlhDwuqvqwvhUvqcmz qafhqvhNwznwts,hVqzoqvi.\n",
      "(1)hIhtqcmlhivlhtwcmlhapmhnwttwdqvohapzmmhkwbvazqm :hEofxa,hCivilihivlhapmhUvqamlhSaiam hwnhAumzqki.\n",
      "(2)hIhpicmhaibopahNmadwzshSmkbzqafhCwvkmxa :hPzwawkwt h&hPzwoziuuqvohmqopahaqum hqvhapmhti ahamvhfmiz .\n",
      "\n",
      "\n",
      "16\n",
      "(3)gIgsvblgtegmhtpse:gMv oly,gFh oly,gSpz lyz,gByv olyz,gWpml,gDhano lyg&gSvu.\n",
      "(4)gIgsvblg olgCvtwa lygSjpujlgDlwyh tul gvmgOskgDvtpupvugUupblyzp egpugNvymvsr,gVpynpuh.\n",
      "(1)gIgspblkghukgsvblkg olgmvssvcpung oyllgjvau yplz:gEnew ,gChuhkhghukg olgUup lkgS h lzgvmgAtlypjh.\n",
      "(2)gIgohblg hano gNl cvyrgSljayp egCvujlw z:gPyv vjvszg&gPyvnyhttpunglpno g ptlzgpug olgshz g lugelhyz.\n",
      "\n",
      "\n",
      "17\n",
      "(3)fIfruakfsdflgsord:fMuznkx,fFgznkx,fSoyzkxy,fBxuznkxy,fWolk,fDg mnzkxf&fSut.\n",
      "(4)fIfruakfznkfCusv zkxfSiotikfDkvxgzstkzfulfOrjfDusotoutfUtoakxyozdfotfNuxlurq,fVoxmotg.\n",
      "(1)fIfroakjfgtjfruakjfznkflurrubotmfznxkkfiu tzxoky:fEmdvz,fCgtgjgfgtjfznkfUtozkjfSzgzkyfulfAskxoig.\n",
      "(2)fIfngakfzg mnzfNkzbuxqfSki xozdfCutikvzy:fPxuzuiuryf&fPxumxgssotmfkomnzfzoskyfotfznkfrgyzfzktfdkgxy.\n",
      "\n",
      "\n",
      "18\n",
      "(3)eIeqt jercekfrnqc:eMtymjw,eFfymjw,eSnxyjwx,eBwtymjwx,eWnkj,eDfzlmyjwe&eSts.\n",
      "(4)eIeqt jeymjeCtruzyjweShnshjeDjuwfyrsjyetkeOqieDtrnsntseUsn jwxnycenseNtwktqp,eVnwlnsf.\n",
      "(1)eIeqn jiefsieqt jieymjektqqtansleymwjjehtzsywnjx:eElcuy,eCfsfifefsieymjeUsnyjieSyfyjxetkeArjwnhf.\n",
      "(2)eIemf jeyfzlmyeNjyatwpeSjhzwnyceCtshjuyx:ePwtythtqxe&ePwtlwfrrnslejnlmyeynrjxenseymjeqfxyeyjsecjfwx.\n",
      "\n",
      "\n",
      "19\n",
      "(3)dIdpszidqbdjeqmpb:dMsxliv,dFexliv,dSmwxivw,dBvsxlivw,dWmji,dDeyklxivd&dSsr.\n",
      "(4)dIdpszidxlidCsqtyxivdSgmrgidDitvexqrixdsjdOphdDsqmrmsrdUrmzivwmxbdmrdNsvjspo,dVmvkmre.\n",
      "(1)dIdpmzihderhdpszihdxlidjspps mrkdxlviidgsyrxvmiw:dEkbtx,dCerehederhdxlidUrmxihdSxexiwdsjdAqivmge.\n",
      "(2)dIdlezidxeyklxdNix svodSigyvmxbdCsrgitxw:dPvsxsgspwd&dPvskveqqmrkdimklxdxmqiwdmrdxlidpewxdxirdbievw.\n",
      "\n",
      "\n",
      "20\n",
      "(3)cIcoryhcpacidploa:cMrwkhu,cFdwkhu,cSlvwhuv,cBurwkhuv,cWlih,cDdxjkwhuc&cSrq.\n",
      "(4)cIcoryhcwkhcCrpsxwhucSflqfhcDhsudwpqhwcricOogcDrplqlrqcUqlyhuvlwaclqcNruiron,cVlujlqd.\n",
      "(1)cIcolyhgcdqgcoryhgcwkhciroorzlqjcwkuhhcfrxqwulhv:cEjasw,cCdqdgdcdqgcwkhcUqlwhgcSwdwhvcricAphulfd.\n",
      "(2)cIckdyhcwdxjkwcNhwzruncShfxulwacCrqfhswv:cPurwrfrovc&cPurjudpplqjchljkwcwlphvclqcwkhcodvwcwhqcahduv.\n",
      "\n",
      "\n",
      "21\n",
      "(3)bIbnqxgbo bhcokn :bMqvjgt,bFcvjgt,bSkuvgtu,bBtqvjgtu,bWkhg,bDcwijvgtb&bSqp.\n",
      "(4)bIbnqxgbvjgbCqorwvgtbSekpegbDgrtcvopgvbqhbOnfbDqokpkqpbUpkxgtukv bkpbNqthqnm,bVktikpc.\n",
      "(1)bIbnkxgfbcpfbnqxgfbvjgbhqnnqykpibvjtggbeqwpvtkgu:bEi rv,bCcpcfcbcpfbvjgbUpkvgfbSvcvgubqhbAogtkec.\n",
      "(2)bIbjcxgbvcwijvbNgvyqtmbSgewtkv bCqpegrvu:bPtqvqeqnub&bPtqitcookpibgkijvbvkogubkpbvjgbncuvbvgpb gctu.\n",
      "\n",
      "\n",
      "22\n",
      "(3)aIampwfanzagbnjmz:aMpuifs,aFbuifs,aSjtufst,aBspuifst,aWjgf,aDbvhiufsa&aSpo.\n",
      "(4)aIampwfauifaCpnqvufsaSdjodfaDfqsbunofuapgaOmeaDpnjojpoaUojwfstjuzajoaNpsgpml,aVjshjob.\n",
      "(1)aIamjwfeaboeampwfeauifagpmmpxjohauisffadpvousjft:aEhzqu,aCbobebaboeauifaUojufeaSubuftapgaAnfsjdb.\n",
      "(2)aIaibwfaubvhiuaNfuxpslaSfdvsjuzaCpodfqut:aPspupdpmta&aPsphsbnnjohafjhiuaujnftajoauifambtuaufoazfbst.\n",
      "\n",
      "\n",
      "23\n",
      "(3) I love my family: Mother, Father, Sisters, Brothers, Wife, Daughter & Son.\n",
      "(4) I love the Computer Scince Depratmnet of Old Dominion University in Norfolk, Virgina.\n",
      "(1) I lived and loved the following three countries: Egypt, Canada and the United States of America.\n",
      "(2) I have taught Network Security Concepts: Protocols & Programming eight times in the last ten years.\n",
      "\n",
      "\n"
     ]
    }
   ],
   "source": [
    "for i in range(24):\n",
    "    print  i\n",
    "    print  result[i]+'\\n'"
   ]
  },
  {
   "cell_type": "markdown",
   "metadata": {},
   "source": [
    "# <font color='green'>So the key is \"xyz\"</font>"
   ]
  },
  {
   "cell_type": "markdown",
   "metadata": {},
   "source": [
    "#problem 4"
   ]
  },
  {
   "cell_type": "code",
   "execution_count": 68,
   "metadata": {
    "collapsed": false
   },
   "outputs": [],
   "source": [
    "fstr = file2str('cfile4.base64')\n",
    "data = base64.decodestring(fstr)\n",
    "result=[]\n",
    "for i in range(25,1,-1):\n",
    "    pwd=indexToLetter(i)+indexToLetter(i-1)+indexToLetter(i-2)\n",
    "    result.append(xorEncryptDecrypt(pwd,data))"
   ]
  },
  {
   "cell_type": "code",
   "execution_count": 69,
   "metadata": {
    "collapsed": false,
    "scrolled": false
   },
   "outputs": [
    {
     "name": "stdout",
     "output_type": "stream",
     "text": [
      "(4) I love the Computer Scince Depratmnet of Old Dominion University in Norfolk, Virgina.\n",
      "(1) I lived and loved the following three countries: Egypt, Canada and the United States of America.\n",
      "(2) I have taught Network Security Concepts: Protocols & Programming eight times in the last ten years.\n",
      "(3) I love my family: Mother, Father, Sisters, Brothers, Wife, Daughter & Son.\n",
      "\n",
      "\n",
      "+5&z\b#mhwf!{if!Dnnqjufs'R`hmbjz\u0005fqu`wladw!hg#Nse#Ehljojnaz\u0014mhqdqrfuz!no#Opsenkj/!Uh}=(m`)\u000b",
      "+0&!J!khud{!boc!onudkz5kd'glmcnthif#uwsfd'bltmu}3$p;'Ddxu/!D`m`{`#`ie#ukd/\u000f/jube#R{`wdt!lg?@nduh``-\u000b",
      "'hh#H'ibwj!w`rfku?Ofupnqj#Rj94qhsx#B`o`dwup;?Qqnsn`nor/|aSshfq`bljo`!fhxiw!shndp!f4awib!o`|u#ubo#xz`qr)\u000b",
      "+2*!Fz-lwb!nx/gblnmz;?Lluodq-#Gn.)fs+!Ph|ufst-#Cmnwibsp-#Vf<$/!C`vfgufs''#Rpo-\u000b",
      "\n",
      "\n",
      "*:'yRbnipg\"zfg\"Eiorkjgp&Uaklmky_'rtgvo`kv\"i`\"Mrz\"Fikklka`yN,kpcpqgz{\"oh\"Lqldmjm.\"Tg|>r,c(\f",
      "*3'.K\"jotgz>clb&nmtkjyo*g&`mnbaukha\"vvlgg&emwlz|0~18&Ce{~z.\"Eglcz\"chb\"vjk.\f",
      "u+vcb\"Qzovgu&md>_ogtoac,\u0004&k2bK&nctk.vcsajv>Pgvqipi\"]k:n0kr\"Aa`agvrq8>Npmriamn}.;\u0012piapccckla&gkyvv\"roogq.g7;6jc&nc}z\"vch\"{{pq(\f",
      "*1+.Gyw-tc&o{.hcooj{8>Smvncp.\"Ho-s'p*&Qk}zgpu*\"@lqvjctq.\"Yg?~n\"Bgwefzgp& \"Qqp,\b\n",
      "\n",
      "%;$xQ8/jq`#ygh#Fhhshkxq%Tfjclhx\\}3wfqncjy#ja%Lq{=Gjjlmd`cxMv*sbwpd{t#li%Mrm{lil)#[f?qv\"+\r",
      "-2$/D#insfy?|ma'il{jixlp&%ajoa`zjk`%wumxf%djvc{1}ky%Bbz}{!#Ffkby~=bkc%wej-\r",
      "vq7`c%Pynyfv'je=^pfwnfb#\u0005%j18\n",
      "%oduh/ybp`mw=Qxwrhwh-\\h;mj*q~%@banfusv9=Oolqhfla|-~8H1j`wb`bdmb'`jzwi#qnhf~/d68l+`'ib~{-w`i%zx~op+\r",
      "-0$/Dxtw5`'hz-ilnlk|9=Rrwmbw/-Il,p}1)'Vj~{hqv+%Aopik`uv/-Xd>}4cAfpde{hq%!%Prq3\t\n",
      "\n",
      "$8%wP;u+ra$xdi,Gkitihyn$Wgmboiw]~i6epibix,kb$Kpx<XkimjecbwLup2avwexu,mj$Jsnzsho($Ze~0puxj\u000e,5%,E,hmrax<}r`$hkzihwms|dbkh`c{ejc$ptnyy$gkqbx~>|h#dAc}|x ,Gejex}<}j`$pdi,\u0002wrm!`$Wxmxiw$kb<]qyvmge\"\u0006$e0;Pdleri,xmqclp<Ryhskvo,_i4lip0}$Gcboitpw><Lnspkgk`,q9Kk+cveaaebc$am{th<pmia,e99oq!$hex,xaj$}y}no*\u000e,7%,Ewuto!$i},jmamh}><Qshlav(,Jm#q~kh$Wmxi~w($Fnshtavw(,[e1|79\u0000eqcdxi~$\"$Wsr2\u0016\n",
      "\n",
      "'9\"v_:vq3b%ej-Hjjunizo;VdlannvRjl$sheh{-dc'Jwy?YthnkfbevCtsh uvbyv-bk'Ktoyrwn+%Ydy1t{0O/4\"-F-glq`=~s%kjyhovbr>#higbxdeb'qsozx;fhpayy?si >\u0000`|{y#-Hdid|?|ua'qgh+\u0003xsn{!'Vl{hx%hc;\\rxildd!\u0007#d?:S>-fsn-{l~boq;Sziljun/^n5chsj<'Fdclh{qt?;Mmrojdjc~+p6Jhq\"udf`fcl%bl|uk=olj`|-b86nr{ekdxy/ynk'|~|mn5\u000f/6&-Bvzul{ej|+kn`bi~?;Ppis`u)/Kj\"~h2eTlxyjx)'Girku~wt)/Zb0s6:Z$rbcyj+#'Vts1\u0017\n",
      "\n",
      "&>#u^5wri#&~bk.Iekvon{l:Ieo`iouSpko~2kdoz.el&Iv~>ZuwohgeduB{rkz4uc~w.cd&Huhxqvq*&Xcx2~{z3\u0015n7#*G.fcpc~:p~:jixonuc}~=y)jfeygdm&rrh{{:yis`~x<rf!=Z!z~\".Ikhg~{>t~&rfo*\u0000y|ox{fU~kzky*i`:[s{hseg \u0000\"g>5R=w'po*zomnr:T{jmutm.Yo6bgriffEedmkz~u<:Jlqnueiby*s7Eirx4gggg`m*co}rj>nskc}*c;7asx?*gy~.zod&{lm4\u0010.5'*Cu{zmx?+*loccf<:Wqjrt*.Lk!pi1?\u0015oy~k|y&&Dhujvhu*.]c3r9;Y~3ab~k|*,&Uut0\u0014\n",
      "\n",
      "!? t]4xsjyg}cl/Jddwlo|m9HznghltPqdn}h*gn}/fm)Hu9[vvpi`dgtAz}jyn4`p/`e)Ivipup5'_b{3}zu2\u00164v +@/ebb};xq};uhnmt`|q<zs+ed~fgl)sqi|z9xvrg{=qg.<Y{>y%/Jjgf}z9~w9san)\u0001z}`yx<\u0014}j}jz+fa9Ztzkrzf'\u0001!f=4]<t}1l+}n|las9U|kntkl)Xl7af}he<\u0004fejjyz=9Kkpmtzhex)r4Dfs{n&df`an+ln~sm?mrtbz+`:4`|y<p&z){le)~|zkl7\u001114 +@tx{by<q>)mhb`gp=9Vvkq~k+)Mh |qf0<O.zl}z')Ektmw|ij+)\\`2q84X}i al})-)Tvu7\u0015\n",
      "\n",
      " <!s\\7y|kz=<`m(Kgexml}j8K{qfkmsQrea|kp&m|(gn(Gt|8\\wuqvagfs@y|exmn!|q(af(Fwj~wts48^az4|yt=\u00177,a(A(da~m|8yv|8tw~mlsap3{pq$gafo(|pj}}8{wmf|z:pd/3Xxd8|$(Kifi|y8yv|8l`m(\u0006{~avy?N<i|m{(gn8Yu}jq{y&\u0002 a<7\\3u~k-(|i}o`|8V}lowjs([m0`e|gd?^'fkmx|{28Hjwlw{wd{(u5Gg|zm|%eafo(mapl8lqu}{(a=5c}v=s|;|(|mf(q}yjk6\u00120+!(Asyxcv=rdhnieadq28Uwlp}j4(Ni'}rg?=Lt;|mz{$(Jjwlp}jk4(_a5p;5W|jz |mz(.([wv6\u0012\n",
      "\n",
      "#=>r[6z}d{>f!n)Lffybm~k?JxpejrrVsf`sjs|,)`o+F{};]ptrwbfyrGxdwlm{=r)fg+Gxk}vsr79]`e5{xw<\u00186/;iB)c`}ls9zw{9wv}lsrf~s2tqr~&|`an+}k~|?ztle}e;we,2Wygb=')Lhehsx;xq};mcl7\u0007|bwv>Mf(l|)do7Xv|mpxx%\u0003?`;6_2zhwihznc}7W~mhvir+Zr1gdfk>]}'hl}x37Iivkvxvgz7t2Fd}ul$bgh)n`pqo9kpv|x)~<2b~w2ra=+}jg+prxij1\u00133*\")^r~y`w2sg2/jdfer37Ttmw|i5+Ov&zsd>2Mwa=n{|%+Kevoqzkh5+^~4w:6Vskyz=n{//+Zxw5\u0013\n",
      "\n",
      "\"\"?qZ1{~et?e{/*Magzcbh>MysdusqWtgcrerv>*ah*Ezr:^qsstcyxqF~gvclxg3*g`*Dyd|uru6:\\d6zv?\u00199.83\u0003*bg|or6{tz>vu|srqgyr1u~s}|=c`i*~~d>}uodbd8vb-1Vvfagf*Modkrw:{pz:nbs6\u0004}xctw1Ler>o}.el6Wwlwy{$\u001c",
      ">c:1^1{pit3>k{ib~6Xniqhq*Es2fc~ej1\\~})o~zy06Fhujqyufe6w3Ae~tc~|~#di.ocq~n:jwwy6?3et3}~bgj~k`*sswhi0\u00142)#6_q~at3|f1u+ggbs06[unv{h6*Pw%{te=3Bvbg/x}\"*Hdynr{li6*A7v=7Urdxyg/x.(*Yyx4\u0010\n",
      "\n",
      "=#<pY0|fu0dxukN``{`cpi=L~r{tppTu`bqd}~udkbi-Dys5_rrtu|x{pE~yfubcydikda-Ezestqt1;C~g7y~q>\u001a8!90Ykaf{nq7tuy?qtcrqpdxu0v||g\"ch-}ep~=|rn{cg9uc*0Uwi`d<kNncjqv5zs{=o}r5\u0005~ydut0Cdqd.~/bm5Vx~ov~z;\u001d",
      "=b90Y0xqfu0d*xhe5Ypojpop5Dp3ebydi0S~s.}{~15Ggtip~tyd5v0@bwbq}}y%j/hbra;ivp~f7|>0dxu0|qcd0?ha-rpvgh3\u00155(<7\\p|fu0}i0vq&dct15Zzouzo75Qt$xub<0Cycdu9~#-Igxasxmn75@|6u<0Tqewxdu9-)-Xzy;\u0011\n",
      "\n",
      "< =oX3}xgv1kyv1\u000fca|a`qf<OuzwqoUvaepg|qtg1#j,Cxp4Psqur}{zoD}xatabvej1%b,B{fr{pw0<B}f(x}p9\u001b; 61Z1 ezip4uzx<psbqpoe{t7w|}s~dx\"k,x|fqq<siz`f&t`+7Tthoe?1\u000fmbmpu4urx<h|q4\u001azeru3Bkpgt?,cj4Uyqnu}:\u001e",
      "<}83X7yrgz1gp9kdx4Zq`ksnw4Gq,daxch3Rppt<x64Df{hssxg4i1Ccxvapr|z+,ies|`4huqyg4}!1gyr1ple3e)b,uqufg2\u00164/=4]o}|gr1~h?wr|%`u64Y{`tyn04Ru;yvc;1@xlevc? ,Nf{`|yno04C})t?1Spfvwevcl*,_{z:\u001e",
      "\n",
      "\n",
      "?!:nG2~y`w2jvw2U\"b}farg3N|tyvvnJwbdwfp{f2y+/Bq7Q|pvs~z}n[|{`s`awjk2#/C|gqzv3=A|a)g|s8\u001c",
      ":#7>[2z$yhw5v{w=srapwnzzw6p}~rqe{x*/y{grp3~phyaa'ka(6Suknj>2U,alwt7t}y?ip3\u001b`{fsr2Ajfwem`k3Tzpat||9\u001f;|'2[6~sd{>fsc*gy3[radrmv7Fv-{`{bo2Qqpqwf9|73Eezgr|r{f3h.B`yq`sss{|qmjdt}c5gtrxd5z .fzs6~smj2fs#/tvtef=\u00177.>5Znb}ds6k>xs!v73Xxa{xm17Sr:fw`:6A{mjw`ea/Oazc}vol17Bz(k>2Rwguvjw`6k/^|{9\u001f\n",
      "\n",
      ">&;mF-zap3iwx3Vx#~gfsd2A}wxqwmKhcgva~szi3zqnA~v6R}wp}|mZczcrg`tkd3|yn@}`py~y2>@{`*fcr;\u001d",
      "=\"4?T3y~8kv2wxv2rq`wvm{ev5qzqpjz{pnzz`ss2qqkxf`$j~)5Rrjmk13Vv ovs6w|v>j~w2\u0018adgps5@i~ivf7!h2S{s`{}8\u0018:&-Z5tex?ir`p&z2\\sbe}lu6Aw.zzan5Prq~vec=42Bdyf}}qza2k/]azpgrprt}r7+guzb6f{s{e2{#/y{p7yrnk=gpynwwsde<\u00186-?2[mcbep7xj=y|~|{742_ybzwl26Ts9gha97Fznkxaf;nL`}b~w`m26E{+j!3Qv`tukxa51n]}|8\u001c",
      "\n",
      "\n",
      "9'8lE,`{bq4hty<W{y?dgte1@rvptlHi|fu`yryh<{r4\u0000}w1S~~xqx|lYbebqfguhe<}z4\u0001~awx}x=?Gzc+ebm:\u001e",
      "<%5<U<x}b*u3pyu3}pgvulxdi4r{xpskuzs4;yatr1p~jgc%i64Qsmlh0<Wuz.ur1vw1kyv1\u0019bexqp4Gh}hyg4{)1R|rczr~?\u00199~%,E4|uby<h}as|;1]tcf|ct1@t/y~e`m4Wsryd`gu1Ccxe|rp}`1j,\\~{sfuqqurs4q&v{e7ez|zb3x\",xdq4xuoh<hqz46trcd?\u00199,83Xl`czq4ym<z}q}xmu1^~cyvc31Up8di~84G}ohyng84\r",
      "c|etab31Dx*i ,Puasthyn424\u001c",
      "~}?\u001d",
      "\n",
      "\n",
      "8$9kD/adcr5ouz=Xzze%dub0Csy~sukIj}ytcxuxk=ts7Z<t0T}y~y~kXad}pefrif=r{7[?bv|{<0Fyb,dal%\u001f?$2=V=w|ap40q~t0|futkygh+sxywrhtur7a8buu0se~db\"h|7+Pplki3=Xtyt4q0q~t0dxu0\u001e",
      "cfynq7Fo|kxh5xspQ}ubysq>\u001a8y$/D+}vc~=k|nrap^udgb{0Cu(x}dl7Vts|xkad/p@bds|c0m-_dretvpvs|5r|7xd0dy}uc0y%-{en5{thi?i~{7l5qbc>\u001a8#90Yka`{n5zl;{~pryn/p]dxub<0Vq?ej'5D|hizoh97W\"dxubc<0Gy-h#-Otbrsizo;37F?~>\u001a\n",
      "\n",
      ";%6jC.be|s6nr{>Yu{f%vc7Bpx}rzjNk~xkb{tj>u|6Yf53Ux|zz~qj_`g|odesng>st6Xe#u~{z?1Exm-c`o$\u0000>'3:W>vs`snqrs1~et{j~fk*lyzvuiwt}6bb#vt7r|d}em#o}4*Oqojn2>Y{xwn03pyu3e{t?\u001fdgzon6En{j{i:yp*\u0010~texpp=\u001b7x#.G*bw`:jo}~b*\u001fve`~az3Bz)|g~s6Uut}{jne,*\u0001a~c~p~b?l*^|emdwwwwp}:sm9g1cx~t`1v$*zfo*zwin>jt6oo0ab9\u001b;\":1Vjfaxo*{o:|ssvo,*\u001c",
      "|eta=3W~>bk|&*Ein{li66Tx>gyrc`=3Fv,o\".Nkcqrn{l:<6Ee?=\u001b\n",
      "\n",
      ":*7iB)cf}l7ms|?Zttg|7`6Eq{|}{iOl{j}zw~m?v}9XeorVy{{|{qpi^gfn{dpo`?pu9Yfy4}z}>2Dwl.bgn'\u0001!&0;P?urorm+3|r6~}d{ziaj)mf{utnvw|9cay7w6u}g|jl nz5)Nnnio5?Zzwvmjrsxr2fz{>\u001c",
      "e`{lo)Dmzmzj;vq)J?wdqs<\u00146{\")F)cha|;m~l|qc)E7fay`y2M{*~{f}r)Tvuzzioj-)[ }byq}~m>o+Y}fl{vtvpq~;|~nc&2bwa>w'+}gl+evjo9k|u9nlj a8\u001c",
      ":!;>Wigfyl+dn9}xrpw`-)F=f~s`>2X=cl}%+Z~jo|mj79U{d&zsda>2Iw/n%/Mj|pqo|m9=9Dfe|\u0018\n",
      "\n",
      "5+4hA(dg~m(lp}8[wuh}|m!5Dvzs|xhLmxzi|ev}l8w~8Wdl(\u0017zz|}tpsh]fa~mz{qla8qv8Vgzn<y|93Kvo/afi&\u0002 918Q8tqn}l(i=q7y|kzyh|`m(ngdtwoqv8l`zm65tzfsko!m{2(Moqhl48[yvyli(2{s5guz=\u001d",
      "fa|ml([lyl}k8w~(Ie6g~vr3\u00155z!(A(`i~}8lympl(Fm'bxgx=Lx+}za|q(Kwv{}hlk\"(Xz<axv|ql=n(Xzgoziuuqv8}qo`|sa~xvn?t&(|`m(dikl8l}v8amiz ;\u001d",
      "= 4?Thdg~m(eq8~yuqta\"(Eg'}rg?=Y|<`mz$([akl}jk48Zzg|;pef?=Ht.m$(Li}opl}j8>8Kgf&Y\n",
      "\n",
      "4(5g@+e`n)sq~9\\vvir}n{tGw}rygMny}hdi|o9p;Vkm+M;y}zusrg\\e`ylyznmb9vw;Wh{mf884Jun `eh!\u0003#8.9R9spm|c)jg04x{jyxg}cl/odekvlpq~;mo{nltw{arhn.lx3/Llpwm79\\xuxch+h:p4`ty<\u0012gb}jm+Zsxo|l9t'Hfl&}wu2\u00164u +@/ajb9oxj~sm'Gn}#{f<Oy$|y`{p+Jhwx|omh#'Yyf {w{po<a)[{`nyhjtrwx9~p`a) }yqo<u))aj)ghtm;mzw;`bhyzz\u001e",
      "<'5<Ugedj)fp'ztvub#'Dd}<qf8<Z}3an{#)X`tm~kl5;[ufa1fg8<Ku!l')Kh~nom~k??;Jhg%\u0003\n",
      "\n",
      "7)2fO*faxo*rn:]qwjsrox.\u0006t|q~~fBoz|o~ghcn:qx:Ujb*Na8~{vrufSdcxkxyorc:wp:Titleb>;5Iti!odk \u0004\";/&S:rwlb&kdju{zixfrbo.hefjimspy:nntoo.6x`qii/cy0.Kmsvr6:]t{bg*k`17awx;\u0013hc~kj*Yrgnm>u|&Ggo|<tt1\u00173t/*C.fk|c&n{kyrn&Ho~y:e~?N~%sxczw*Iihynji &Vxez:tzsn;`&Zxaixkkksty>san~*z<zpl=r(&~bk.fkur:n{p:ccgxy _?&6=Rfje|k.gs&`{wwrc &Ke~f0e9?[z2nox\".Ycurhm2:Xti~bk'd9?Jr c&*Jomnrh>8:Iih$\u0000\n",
      "\n",
      "6.3eN%gbyh+qo`;^ppkps`y-\\5pyeC`{nyfkbq;ry=Tic%Obb?xwuteRkb{jxls|;tq=Ujucdadz6Hsh\"nkj#\u0005%:,'L;qvk~a'dei/:yh~esmn-ibgihrrsx=omu`n-l9cpnh,bv1-Jjrus);^~szaf%jckvbv:\u0010ilhk-Xqfq~n?r}%Fhnf5w0\u00102w.%B-gl}`'qzhxuo%I`z`$}>I&rwbyv-Hjif~mkn!%Wwdy`5yri:c'Uybhjhjluz?xrboq+yf;sm:s+'qch/ajvs%oxq=b`fwx#\u0005~%7:Sekj}h/`r%advtsd!%Jjej$:>\\{1o`y!/^bvs`in3=Ywhqch}%:>Ms#b)+Inxlms`i=9=Hji+\u0001\n",
      "\n",
      "1/0dM$hczi,pla$_sqlqpav,_o>wx|d@at~mxajap$sz<Sh`$@cae9ptwdQjmzi~mp}$ur<Rkvbk`g wOrk#mje\"\u0006$=-$M$pujy`$ejh,`8o~}dpla,jc`hksmr{<hlvaa,oc\"wok-aw>,Ikutp($_}r}`e$ebh,#q~9\u0011jmpih,_pepao<sz$Eia~eo67\u00111v-$M,dmza$pei{th$Jap{c~<9H|'qvmxu,Okjgalho&$Tvkxco8uh9b$Tvck~miimj{<yuclp$xea2j;p*$pli,`mwp$pyr<eaevw\"\u0006$d0;Pdhkri,au$beiupe&$Ikpdi~{9]x0lav ,_ewpavo0<^vkpli~{9Lp\"a($Hmyklpav<:<Okj*\u000e\n",
      "\n"
     ]
    }
   ],
   "source": [
    "for i in range(24):\n",
    "    print result[i]+'\\n'"
   ]
  },
  {
   "cell_type": "markdown",
   "metadata": {
    "collapsed": true
   },
   "source": [
    "# <font color='green'>So the key here is: zyx</font>"
   ]
  },
  {
   "cell_type": "code",
   "execution_count": null,
   "metadata": {
    "collapsed": true
   },
   "outputs": [],
   "source": []
  }
 ],
 "metadata": {
  "kernelspec": {
   "display_name": "Python 2",
   "language": "python",
   "name": "python2"
  },
  "language_info": {
   "codemirror_mode": {
    "name": "ipython",
    "version": 2
   },
   "file_extension": ".py",
   "mimetype": "text/x-python",
   "name": "python",
   "nbconvert_exporter": "python",
   "pygments_lexer": "ipython2",
   "version": "2.7.9"
  }
 },
 "nbformat": 4,
 "nbformat_minor": 0
}
