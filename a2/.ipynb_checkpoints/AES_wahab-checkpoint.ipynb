{
 "cells": [
  {
   "cell_type": "code",
   "execution_count": null,
   "metadata": {
    "collapsed": true
   },
   "outputs": [],
   "source": []
  },
  {
   "cell_type": "code",
   "execution_count": null,
   "metadata": {
    "collapsed": true
   },
   "outputs": [],
   "source": []
  },
  {
   "cell_type": "code",
   "execution_count": 3,
   "metadata": {
    "collapsed": false
   },
   "outputs": [],
   "source": [
    "import sys\n",
    "\n",
    "strIn=sys.argv[1].replace(' ','')\n",
    "strKey=sys.argv[2].replace(' ','')\n",
    "\n",
    "s_box= [\n",
    "\t# 0     1           2          3        4         5        6         7        8         9           a        b        c        d          e         f\n",
    "\t0x63, 0x7c, 0x77, 0x7b, 0xf2, 0x6b, 0x6f, 0xc5, 0x30, 0x01, 0x67, 0x2b, 0xfe, 0xd7, 0xab, 0x76, # 0\n",
    "\t0xca, 0x82, 0xc9, 0x7d, 0xfa, 0x59, 0x47, 0xf0, 0xad, 0xd4, 0xa2, 0xaf, 0x9c, 0xa4, 0x72, 0xc0, # 1\n",
    "\t0xb7, 0xfd, 0x93, 0x26, 0x36, 0x3f, 0xf7, 0xcc, 0x34, 0xa5, 0xe5, 0xf1, 0x71, 0xd8, 0x31, 0x15, # 2\n",
    "\t0x04, 0xc7, 0x23, 0xc3, 0x18, 0x96, 0x05, 0x9a, 0x07, 0x12, 0x80, 0xe2, 0xeb, 0x27, 0xb2, 0x75, # 3\n",
    "\t0x09, 0x83, 0x2c, 0x1a, 0x1b, 0x6e, 0x5a, 0xa0, 0x52, 0x3b, 0xd6, 0xb3, 0x29, 0xe3, 0x2f, 0x84, # 4\n",
    "\t0x53, 0xd1, 0x00, 0xed, 0x20, 0xfc, 0xb1, 0x5b, 0x6a, 0xcb, 0xbe, 0x39, 0x4a, 0x4c, 0x58, 0xcf, # 5\n",
    "\t0xd0, 0xef, 0xaa, 0xfb, 0x43, 0x4d, 0x33, 0x85, 0x45, 0xf9, 0x02, 0x7f, 0x50, 0x3c, 0x9f, 0xa8, # 6\n",
    "\t0x51, 0xa3, 0x40, 0x8f, 0x92, 0x9d, 0x38, 0xf5, 0xbc, 0xb6, 0xda, 0x21, 0x10, 0xff, 0xf3, 0xd2, # 7\n",
    "\t0xcd, 0x0c, 0x13, 0xec, 0x5f, 0x97, 0x44, 0x17, 0xc4, 0xa7, 0x7e, 0x3d, 0x64, 0x5d, 0x19, 0x73, # 8\n",
    "\t0x60, 0x81, 0x4f, 0xdc, 0x22, 0x2a, 0x90, 0x88, 0x46, 0xee, 0xb8, 0x14, 0xde, 0x5e, 0x0b, 0xdb, # 9\n",
    "\t0xe0, 0x32, 0x3a, 0x0a, 0x49, 0x06, 0x24, 0x5c, 0xc2, 0xd3, 0xac, 0x62, 0x91, 0x95, 0xe4, 0x79, # a\n",
    "\t0xe7, 0xc8, 0x37, 0x6d, 0x8d, 0xd5, 0x4e, 0xa9, 0x6c, 0x56, 0xf4, 0xea, 0x65, 0x7a, 0xae, 0x08, # b\n",
    "\t0xba, 0x78, 0x25, 0x2e, 0x1c, 0xa6, 0xb4, 0xc6, 0xe8, 0xdd, 0x74, 0x1f, 0x4b, 0xbd, 0x8b, 0x8a,# c\n",
    "\t0x70, 0x3e, 0xb5, 0x66, 0x48, 0x03, 0xf6, 0x0e, 0x61, 0x35, 0x57, 0xb9, 0x86, 0xc1, 0x1d, 0x9e, # d\n",
    "\t0xe1, 0xf8, 0x98, 0x11, 0x69, 0xd9, 0x8e, 0x94, 0x9b, 0x1e, 0x87, 0xe9, 0xce, 0x55, 0x28, 0xdf, # e\n",
    "\t0x8c, 0xa1, 0x89, 0x0d, 0xbf, 0xe6, 0x42, 0x68, 0x41, 0x99, 0x2d, 0x0f, 0xb0, 0x54, 0xbb, 0x16]#f\n",
    "def printMatrix4x4(matrix):\n",
    "\tfor i in range(0,4):\n",
    "\t\tfor j in range(0,4):\n",
    "\t\t\tprint (hex(matrix[i*4+j])[2:]),\n",
    "\t\tprint ('')\n",
    "def gmul(a, b) :\n",
    "\tp = 0; # the product of the multiplication \n",
    "\tcounter=0\n",
    "\tfor  counter  in range(0,8):\n",
    "\t\tif (b & 1) : #if b is odd, then add the corresponding a to p (final product = sum of all a's corresponding to odd b's) \n",
    " \t\t\tp ^= a;# since we're in GF(2^m), addition is an XOR \n",
    "\t\ta <<= 1; # equivalent to a*2 \n",
    "\t\tif (a & 0x100) :#GF modulo: if a >= 256 (2^8 + 1) then apply modular reduction using the primitive polynomial \n",
    "\t\t\ta ^= 0x11b; #XOR with the primitive polynomial x^8 + x^4 + x^3 + x + 1 -- you can change it but it must be irreducible \n",
    "\t\tb >>= 1; #equivalent to b // 2 \n",
    "\treturn p"
   ]
  },
  {
   "cell_type": "code",
   "execution_count": 5,
   "metadata": {
    "collapsed": false
   },
   "outputs": [
    {
     "ename": "ValueError",
     "evalue": "invalid literal for int() with base 16: '/h'",
     "output_type": "error",
     "traceback": [
      "\u001b[1;31m---------------------------------------------------------------------------\u001b[0m",
      "\u001b[1;31mValueError\u001b[0m                                Traceback (most recent call last)",
      "\u001b[1;32m<ipython-input-5-a9c7343dd646>\u001b[0m in \u001b[0;36m<module>\u001b[1;34m()\u001b[0m\n\u001b[0;32m      3\u001b[0m \u001b[0mrawKey\u001b[0m\u001b[1;33m=\u001b[0m\u001b[1;33m[\u001b[0m\u001b[1;36m0\u001b[0m\u001b[1;33m,\u001b[0m\u001b[1;36m0\u001b[0m\u001b[1;33m,\u001b[0m\u001b[1;36m0\u001b[0m\u001b[1;33m,\u001b[0m\u001b[1;36m0\u001b[0m\u001b[1;33m,\u001b[0m\u001b[1;36m0\u001b[0m\u001b[1;33m,\u001b[0m\u001b[1;36m0\u001b[0m\u001b[1;33m,\u001b[0m\u001b[1;36m0\u001b[0m\u001b[1;33m,\u001b[0m\u001b[1;36m0\u001b[0m\u001b[1;33m,\u001b[0m\u001b[1;36m0\u001b[0m\u001b[1;33m,\u001b[0m\u001b[1;36m0\u001b[0m\u001b[1;33m,\u001b[0m\u001b[1;36m0\u001b[0m\u001b[1;33m,\u001b[0m\u001b[1;36m0\u001b[0m\u001b[1;33m,\u001b[0m\u001b[1;36m0\u001b[0m\u001b[1;33m,\u001b[0m\u001b[1;36m0\u001b[0m\u001b[1;33m,\u001b[0m\u001b[1;36m0\u001b[0m\u001b[1;33m,\u001b[0m\u001b[1;36m0\u001b[0m\u001b[1;33m]\u001b[0m\u001b[1;33m\u001b[0m\u001b[0m\n\u001b[0;32m      4\u001b[0m \u001b[1;32mfor\u001b[0m \u001b[0mi\u001b[0m \u001b[1;32min\u001b[0m \u001b[0mrange\u001b[0m\u001b[1;33m(\u001b[0m\u001b[1;36m0\u001b[0m\u001b[1;33m,\u001b[0m\u001b[1;36m32\u001b[0m\u001b[1;33m,\u001b[0m\u001b[1;36m2\u001b[0m\u001b[1;33m)\u001b[0m\u001b[1;33m:\u001b[0m\u001b[1;33m\u001b[0m\u001b[0m\n\u001b[1;32m----> 5\u001b[1;33m     \u001b[0mrawKey\u001b[0m\u001b[1;33m[\u001b[0m\u001b[0mi\u001b[0m\u001b[1;33m//\u001b[0m\u001b[1;36m2\u001b[0m\u001b[1;33m]\u001b[0m\u001b[1;33m=\u001b[0m\u001b[0mint\u001b[0m\u001b[1;33m(\u001b[0m\u001b[0mstrKey\u001b[0m\u001b[1;33m[\u001b[0m\u001b[0mi\u001b[0m\u001b[1;33m:\u001b[0m\u001b[0mi\u001b[0m\u001b[1;33m+\u001b[0m\u001b[1;36m2\u001b[0m\u001b[1;33m]\u001b[0m\u001b[1;33m,\u001b[0m\u001b[1;36m16\u001b[0m\u001b[1;33m)\u001b[0m\u001b[1;31m#//  ?\u001b[0m\u001b[1;33m\u001b[0m\u001b[0m\n\u001b[0m\u001b[0;32m      6\u001b[0m \u001b[0mj\u001b[0m\u001b[1;33m=\u001b[0m\u001b[1;36m0\u001b[0m\u001b[1;33m\u001b[0m\u001b[0m\n\u001b[0;32m      7\u001b[0m \u001b[1;32mfor\u001b[0m \u001b[0mi\u001b[0m \u001b[1;32min\u001b[0m \u001b[0mrange\u001b[0m\u001b[1;33m(\u001b[0m\u001b[1;36m0\u001b[0m\u001b[1;33m,\u001b[0m\u001b[1;36m32\u001b[0m\u001b[1;33m,\u001b[0m\u001b[1;36m8\u001b[0m\u001b[1;33m)\u001b[0m\u001b[1;33m:\u001b[0m\u001b[1;33m\u001b[0m\u001b[0m\n",
      "\u001b[1;31mValueError\u001b[0m: invalid literal for int() with base 16: '/h'"
     ]
    }
   ],
   "source": [
    "data=[0,0,0,0,0,0,0,0,0,0,0,0,0,0,0,0]\n",
    "key=[0,0,0,0,0,0,0,0]\n",
    "rawKey=[0,0,0,0,0,0,0,0,0,0,0,0,0,0,0,0]\n",
    "for i in range(0,32,2):\n",
    "    rawKey[i/2]=int(strKey[i:i+2],16)#//  ?\n",
    "j=0\n",
    "for i in range(0,32,8):\n",
    "\tkey[j]=int(strKey[i:i+8],16)\n",
    "\tj+=1\t\n",
    "j=0\n",
    "for i in range(0,32,2):\n",
    "\tdata[j]=int(strIn[i:i+2],16)\n",
    "\tj+=1\n",
    "print \"raw data:\"\n",
    "printMatrix4x4(data)\n",
    "print \"rawKey\"\n",
    "printMatrix4x4(rawKey)\n",
    "#add round key\n",
    "for x in range(0,16):\n",
    "\tdata[x]=data[x]^rawKey[x]\n",
    "print (\"add round key\")\n",
    "printMatrix4x4(data)\n",
    "#byte Substitution\n",
    "for x in range(0,16):\n",
    "\tdata[x]=s_box[data[x]]\n",
    "print (\"byte Substitution\")\n",
    "printMatrix4x4(data)\n",
    "#shift rows\n",
    "newState=[0,0,0,0,0,0,0,0,0,0,0,0,0,0,0,0]\n",
    "for i in range(0,4):\n",
    "\tfor j in range(0,4):\n",
    "\t\tnewState[i*4+j]=data[((j+i)%4)*4+i]\n",
    "#stateNew[i][j] = state[i][(j+i)%4]\n",
    "print('shift rows')\n",
    "printMatrix4x4(newState)\n",
    "#mix column\n",
    "column=[2,3,1,1]\n",
    "for i in range(0,4):\n",
    "\tcol=[0,0,0,0]\n",
    "\tb=[0,0,0,0]\n",
    "\tfor j in range(0,4):\n",
    "\t\tcol[j]=newState[j*4+i]\n",
    "\tb[0]=gmul(column[0],col[0])^gmul(column[1],col[1])^gmul(column[2],col[2])^gmul(column[3],col[3])\n",
    "\tb[1]=gmul(column[3],col[0])^gmul(column[0],col[1])^gmul(column[1],col[2])^gmul(column[2],col[3])\n",
    "\tb[2]=gmul(column[2],col[0])^gmul(column[3],col[1])^gmul(column[0],col[2])^gmul(column[1],col[3])\n",
    "\tb[3]=gmul(column[1],col[0])^gmul(column[2],col[1])^gmul(column[3],col[2])^gmul(column[0],col[3])\n",
    "\tfor x in range(0,4):\n",
    "\t\tnewState[x*4+i]=b[x]\n",
    "print('mix column')\n",
    "printMatrix4x4(newState)\n",
    "print ('wahab\\'s 1st round')\n",
    "for x in range(0,16):\n",
    "\tprint hex(newState[x])[2:],\n",
    "print('')"
   ]
  },
  {
   "cell_type": "code",
   "execution_count": null,
   "metadata": {
    "collapsed": true
   },
   "outputs": [],
   "source": []
  }
 ],
 "metadata": {
  "kernelspec": {
   "display_name": "Python 2",
   "language": "python",
   "name": "python2"
  },
  "language_info": {
   "codemirror_mode": {
    "name": "ipython",
    "version": 2
   },
   "file_extension": ".py",
   "mimetype": "text/x-python",
   "name": "python",
   "nbconvert_exporter": "python",
   "pygments_lexer": "ipython2",
   "version": "2.7.9"
  }
 },
 "nbformat": 4,
 "nbformat_minor": 0
}
